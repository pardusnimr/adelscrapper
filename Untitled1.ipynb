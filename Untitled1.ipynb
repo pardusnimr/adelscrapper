{
 "metadata": {
  "name": "",
  "signature": "sha256:c3c810481591c342a28f3dc22c0b0f79dc66b18f5290508eed5f611c16d4170b"
 },
 "nbformat": 3,
 "nbformat_minor": 0,
 "worksheets": [
  {
   "cells": [
    {
     "cell_type": "code",
     "collapsed": false,
     "input": [
      "from umalqurra import hijri_date"
     ],
     "language": "python",
     "metadata": {},
     "outputs": [],
     "prompt_number": 1
    },
    {
     "cell_type": "markdown",
     "metadata": {},
     "source": []
    }
   ],
   "metadata": {}
  }
 ]
}